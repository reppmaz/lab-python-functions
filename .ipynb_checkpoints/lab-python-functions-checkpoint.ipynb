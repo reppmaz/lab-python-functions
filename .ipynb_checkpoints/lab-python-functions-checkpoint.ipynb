{
 "cells": [
  {
   "cell_type": "markdown",
   "id": "25d7736c-ba17-4aff-b6bb-66eba20fbf4e",
   "metadata": {},
   "source": [
    "# Lab | Functions"
   ]
  },
  {
   "cell_type": "markdown",
   "id": "0c581062-8967-4d93-b06e-62833222f930",
   "metadata": {
    "tags": []
   },
   "source": [
    "## Exercise: Managing Customer Orders with Functions\n",
    "\n",
    "In the previous exercise, you improved the code for managing customer orders by using loops and flow control. Now, let's take it a step further and refactor the code by introducing functions.\n",
    "\n",
    "Follow the steps below to complete the exercise:\n",
    "\n",
    "1. Define a function named `initialize_inventory` that takes `products` as a parameter. Inside the function, implement the code for initializing the inventory dictionary using a loop and user input.\n",
    "\n",
    "2. Define a function named `get_customer_orders` that takes no parameters. Inside the function, implement the code for prompting the user to enter the product names using a loop. The function should return the `customer_orders` set.\n",
    "\n",
    "3. Define a function named `update_inventory` that takes `customer_orders` and `inventory` as parameters. Inside the function, implement the code for updating the inventory dictionary based on the customer orders.\n",
    "\n",
    "4. Define a function named `calculate_order_statistics` that takes `customer_orders` and `products` as parameters. Inside the function, implement the code for calculating the order statistics (total products ordered, and percentage of unique products ordered). The function should return these values.\n",
    "\n",
    "5. Define a function named `print_order_statistics` that takes `order_statistics` as a parameter. Inside the function, implement the code for printing the order statistics.\n",
    "\n",
    "6. Define a function named `print_updated_inventory` that takes `inventory` as a parameter. Inside the function, implement the code for printing the updated inventory.\n",
    "\n",
    "7. Call the functions in the appropriate sequence to execute the program and manage customer orders.\n",
    "\n",
    "Hints for functions:\n",
    "\n",
    "- Consider the input parameters required for each function and their return values.\n",
    "- Utilize function parameters and return values to transfer data between functions.\n",
    "- Test your functions individually to ensure they work correctly.\n",
    "\n",
    "\n"
   ]
  },
  {
   "cell_type": "code",
   "execution_count": 6,
   "id": "2d54d73e",
   "metadata": {},
   "outputs": [
    {
     "name": "stdout",
     "output_type": "stream",
     "text": [
      "please enter the the product quantity of the following product: t-shirt: 1\n",
      "please enter the the product quantity of the following product: mug: 1\n",
      "please enter the the product quantity of the following product: hat: 1\n",
      "please enter the the product quantity of the following product: book: 1\n",
      "please enter the the product quantity of the following product: keychain: 1\n",
      "{'t-shirt': 1, 'mug': 1, 'hat': 1, 'book': 1, 'keychain': 1}\n"
     ]
    }
   ],
   "source": [
    "'''\n",
    "1.\n",
    "Define a function named initialize_inventory that takes products as a parameter.\n",
    "Inside the function, implement the code for initializing the inventory dictionary using a loop and user input.\n",
    "'''\n",
    "\n",
    "def initialize_inventory(products):\n",
    "    inventory = {}\n",
    "    for product in products:\n",
    "        quantity = int(input(f'please enter the the product quantity of the following product: {product}: '))\n",
    "        inventory[product] = quantity\n",
    "    return inventory\n",
    "\n",
    "products = [\"t-shirt\", \"mug\", \"hat\", \"book\", \"keychain\"]\n",
    "\n",
    "inventory = initialize_inventory(products)\n",
    "\n",
    "print(inventory)"
   ]
  },
  {
   "cell_type": "code",
   "execution_count": 7,
   "id": "74540c81",
   "metadata": {},
   "outputs": [
    {
     "name": "stdout",
     "output_type": "stream",
     "text": [
      "Please enter which of the following items you would like to order: t-shirt, mug, hat, book, or keychain: mug\n",
      "Would you like to add another product to your order? (yes/no): yes\n",
      "Please enter which of the following items you would like to order: t-shirt, mug, hat, book, or keychain: hat\n",
      "Would you like to add another product to your order? (yes/no): yes\n",
      "Please enter which of the following items you would like to order: t-shirt, mug, hat, book, or keychain: book\n",
      "Would you like to add another product to your order? (yes/no): no\n",
      "Thank you for your order\n"
     ]
    }
   ],
   "source": [
    "'''\n",
    "2.\n",
    "Define a function named get_customer_orders that takes no parameters.\n",
    "Inside the function, implement the code for prompting the user to enter the product names using a loop.\n",
    "The function should return the customer_orders set.\n",
    "'''\n",
    "\n",
    "def get_customer_orders():\n",
    "    customer_orders = set()\n",
    "    order = input('Please enter which of the following items you would like to order: t-shirt, mug, hat, book, or keychain: ')\n",
    "    customer_orders.add(order)\n",
    "    another_order = input('Would you like to add another product to your order? (yes/no): ')\n",
    "    while another_order == 'yes':\n",
    "        product = input('Please enter which of the following items you would like to order: t-shirt, mug, hat, book, or keychain: ')\n",
    "        customer_orders.add(product)\n",
    "        another_order = input('Would you like to add another product to your order? (yes/no): ')\n",
    "    else:\n",
    "        print('Thank you for your order')\n",
    "    return customer_orders\n",
    "\n",
    "customer_orders = get_customer_orders()"
   ]
  },
  {
   "cell_type": "code",
   "execution_count": 8,
   "id": "f72920b0",
   "metadata": {},
   "outputs": [
    {
     "name": "stdout",
     "output_type": "stream",
     "text": [
      "{'t-shirt': 1, 'mug': 0, 'hat': 0, 'book': 0, 'keychain': 1}\n"
     ]
    }
   ],
   "source": [
    "'''\n",
    "3.\n",
    "Define a function named update_inventory that takes customer_orders and inventory as parameters.\n",
    "Inside the function, implement the code for updating the inventory dictionary based on the customer orders.\n",
    "'''\n",
    "\n",
    "def update_inventory(customer_orders, inventory):\n",
    "    for item in customer_orders:\n",
    "        if item in inventory:\n",
    "            inventory[item] = inventory[item] - 1\n",
    "    return inventory\n",
    "\n",
    "updated_inventory = update_inventory(customer_orders, inventory)\n",
    "print(updated_inventory)"
   ]
  },
  {
   "cell_type": "code",
   "execution_count": 9,
   "id": "aafa358b",
   "metadata": {},
   "outputs": [
    {
     "data": {
      "text/plain": [
       "(3, 60.0)"
      ]
     },
     "execution_count": 9,
     "metadata": {},
     "output_type": "execute_result"
    }
   ],
   "source": [
    "'''\n",
    "4.\n",
    "Define a function named calculate_order_statistics that takes customer_orders and products as parameters.\n",
    "Inside the function, implement the code for calculating the order statistics\n",
    "(total products ordered, and percentage of unique products ordered).\n",
    "The function should return these values.\n",
    "'''\n",
    "\n",
    "def calculate_order_statistics(customer_orders, products):\n",
    "    total_products_ordered = len(customer_orders)\n",
    "    percentage_of_unique_products_ordered = (len(customer_orders)/len(products))*100\n",
    "    return total_products_ordered, percentage_of_unique_products_ordered\n",
    "\n",
    "calculate_order_statistics(customer_orders, products)"
   ]
  },
  {
   "cell_type": "code",
   "execution_count": 10,
   "id": "3c5e1274",
   "metadata": {},
   "outputs": [
    {
     "name": "stdout",
     "output_type": "stream",
     "text": [
      "Order Statistics:\n",
      "-Total Products Ordered: 3\n",
      "-Percentage of Unique Products Ordered: 60.0%\n"
     ]
    }
   ],
   "source": [
    "'''\n",
    "5.\n",
    "Define a function named print_order_statistics that takes order_statistics as a parameter.\n",
    "Inside the function, implement the code for printing the order statistics.\n",
    "'''\n",
    "\n",
    "order_stats = calculate_order_statistics(customer_orders, products)\n",
    "\n",
    "def print_order_statistics(order_statistics):\n",
    "    print(f'Order Statistics:\\n-Total Products Ordered: {order_statistics[0]}\\n-Percentage of Unique Products Ordered: {order_statistics[1]}%')\n",
    "\n",
    "print_order_statistics(order_stats)"
   ]
  },
  {
   "cell_type": "code",
   "execution_count": 11,
   "id": "7c2dcd69",
   "metadata": {},
   "outputs": [
    {
     "name": "stdout",
     "output_type": "stream",
     "text": [
      "Products in inventory: {'t-shirt': 1, 'mug': 0, 'hat': 0, 'book': 0, 'keychain': 1}\n"
     ]
    }
   ],
   "source": [
    "'''\n",
    "6.\n",
    "Define a function named print_updated_inventory that takes inventory as a parameter.\n",
    "Inside the function, implement the code for printing the updated inventory.\n",
    "'''\n",
    "\n",
    "def print_updated_inventory(inventory):\n",
    "    print(f'Products in inventory: {inventory}')\n",
    "\n",
    "print_updated_inventory(updated_inventory)"
   ]
  },
  {
   "cell_type": "code",
   "execution_count": 13,
   "id": "6ebb0d79",
   "metadata": {},
   "outputs": [
    {
     "name": "stdout",
     "output_type": "stream",
     "text": [
      "please enter the the product quantity of the following product: t-shirt: 5\n",
      "please enter the the product quantity of the following product: mug: 5\n",
      "please enter the the product quantity of the following product: hat: 5\n",
      "please enter the the product quantity of the following product: book: 5\n",
      "please enter the the product quantity of the following product: keychain: 5\n",
      "Please enter which of the following items you would like to order: t-shirt, mug, hat, book, or keychain: mug\n",
      "Would you like to add another product to your order? (yes/no): yes\n",
      "Please enter which of the following items you would like to order: t-shirt, mug, hat, book, or keychain: hat\n",
      "Would you like to add another product to your order? (yes/no): no\n",
      "Thank you for your order\n",
      "Order Statistics:\n",
      "-Total Products Ordered: 2\n",
      "-Percentage of Unique Products Ordered: 40.0%\n",
      "Products in inventory: {'t-shirt': 5, 'mug': 4, 'hat': 4, 'book': 5, 'keychain': 5}\n"
     ]
    }
   ],
   "source": [
    "'''\n",
    "7.\n",
    "Call the functions in the appropriate sequence to execute the program and manage customer orders.\n",
    "'''\n",
    "inventory = initialize_inventory(products)\n",
    "customer_orders = get_customer_orders()\n",
    "updated_inventory = update_inventory(customer_orders, inventory)\n",
    "order_stats = calculate_order_statistics(customer_orders, products)\n",
    "print_order_statistics(order_stats)\n",
    "print_updated_inventory(updated_inventory)"
   ]
  },
  {
   "cell_type": "code",
   "execution_count": null,
   "id": "032a4127",
   "metadata": {},
   "outputs": [],
   "source": []
  }
 ],
 "metadata": {
  "kernelspec": {
   "display_name": "Python 3 (ipykernel)",
   "language": "python",
   "name": "python3"
  },
  "language_info": {
   "codemirror_mode": {
    "name": "ipython",
    "version": 3
   },
   "file_extension": ".py",
   "mimetype": "text/x-python",
   "name": "python",
   "nbconvert_exporter": "python",
   "pygments_lexer": "ipython3",
   "version": "3.9.19"
  }
 },
 "nbformat": 4,
 "nbformat_minor": 5
}
